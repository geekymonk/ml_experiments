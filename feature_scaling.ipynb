{
 "cells": [
  {
   "cell_type": "markdown",
   "metadata": {},
   "source": [
    "This notebook shows the if we rescale our features such that all the features are centered around the mean and have same variance, the Gradient Dissent algortihm converges faster.\n",
    "\n",
    "For this we synthesize training data for the function $f(x_1,x_2) = w_0 + w_1 x_1 + w_2 x_2 + n$, where n is random uniform noise in [0,1], $w_0 = 50$, $w_1 = 0.5$ and $w_2 = 0.5$.   "
   ]
  },
  {
   "cell_type": "markdown",
   "metadata": {},
   "source": [
    "We import numpy and matplotlib."
   ]
  },
  {
   "cell_type": "code",
   "execution_count": 3,
   "metadata": {
    "collapsed": true
   },
   "outputs": [],
   "source": [
    "import numpy as np\n",
    "import matplotlib.pyplot as plt"
   ]
  },
  {
   "cell_type": "markdown",
   "metadata": {},
   "source": [
    "We will create $100$ point for $x_1$ in the range of $[100, 500]$, and $100$ interger points for $x_2$ in the range of $[2,6]$. Then we will use the function $f(x_1,x_2) = w_0 + w_1 x_1 + w_2 x_2 + n$ to computer $Y$."
   ]
  },
  {
   "cell_type": "code",
   "execution_count": 4,
   "metadata": {},
   "outputs": [],
   "source": [
    "# creating data for: y = a0 + a1 x1 + a2 x2\n",
    "\n",
    "m = 100 # number of data points\n",
    "w0, w1, w2 = 50, 0.5, 0.5\n",
    "\n",
    "x1 = np.linspace(100, 500, m)\n",
    "x2 = np.random.randint(2, 6, m)\n",
    "X = np.zeros([m,2])\n",
    "X[:,0] = x1\n",
    "X[:,1] = x2\n",
    "\n",
    "Y = w0 + w1*x1 + w2*x2\n",
    "Y = Y + np.random.rand(m)\n",
    "Y = Y.reshape([m,1])\n"
   ]
  },
  {
   "cell_type": "markdown",
   "metadata": {},
   "source": [
    "We add another feature of value $1$ for all data point to take care for $w_0$."
   ]
  },
  {
   "cell_type": "code",
   "execution_count": 5,
   "metadata": {
    "collapsed": true
   },
   "outputs": [],
   "source": [
    "X = np.hstack((np.ones([m,1]), X))"
   ]
  },
  {
   "cell_type": "markdown",
   "metadata": {},
   "source": [
    "Now, we write following functions:\n",
    "\n",
    "1) initialize: We start with a value of $W$ being all zero.\n",
    "\n",
    "2) forward: computes the cost for given $X$, $Y$ and $W$. \n",
    "\n",
    "3) backward: computes the gradient for a given $X$, $Y$ and $W$.\n",
    "\n",
    "4) update: use backward function to compute gradient and update the parameters $W$."
   ]
  },
  {
   "cell_type": "code",
   "execution_count": 6,
   "metadata": {
    "collapsed": true
   },
   "outputs": [],
   "source": [
    "# linear regression model\n",
    "\n",
    "def initialize():\n",
    "    W = np.zeros([3,1])\n",
    "    return W\n",
    "    \n",
    "def forward(W,X,Y):\n",
    "    m = X.shape[0]\n",
    "    return ((np.linalg.norm(np.dot(X, W) - Y))**2)/(2*m)\n",
    "\n",
    "def backward(W,X,Y):\n",
    "    m = X.shape[0]\n",
    "    dW = (1/m)*(np.dot(np.dot(X.T,X),W) - np.dot(X.T, Y))\n",
    "    return dW\n",
    "\n",
    "def update(W,X,Y, alpha):\n",
    "    W = W - alpha*backward(W,X,Y) \n",
    "    return W\n",
    "\n"
   ]
  },
  {
   "cell_type": "markdown",
   "metadata": {},
   "source": [
    "Now we start the training process. We tune different values of $\\alpha$ so that we do not overshoot as well as do not go too slow. And then run over iterations untill the costs saturate. To visualize it better we use $log(cost)$. We can check that our optimum choice of $W$ is closer to the choice of $W$ we desgined the function with.\n"
   ]
  },
  {
   "cell_type": "code",
   "execution_count": 7,
   "metadata": {
    "scrolled": true
   },
   "outputs": [
    {
     "data": {
      "image/png": "[encoded data removed]",
      "text/plain": [
       "<matplotlib.figure.Figure at 0x29a855e0a20>"
      ]
     },
     "metadata": {},
     "output_type": "display_data"
    },
    {
     "name": "stdout",
     "output_type": "stream",
     "text": [
      "final cost:  4.22213197025\n",
      "[[ 2.7889687 ]\n",
      " [ 0.57165995]\n",
      " [ 6.83127772]]\n"
     ]
    }
   ],
   "source": [
    "alpha = 0.000006\n",
    "iters = 100000\n",
    "\n",
    "costs = []\n",
    "\n",
    "W = initialize()\n",
    "for i in range(iters):\n",
    "    costs.append(np.log(forward(W,X,Y)))\n",
    "    W = update(W,X,Y,alpha)\n",
    "\n",
    "plt.plot(costs)\n",
    "plt.xlabel('Cost')\n",
    "plt.ylabel('Iteration')\n",
    "plt.show()\n",
    "print(\"final cost: \",  costs[-1])\n",
    "print(W)\n",
    "\n",
    "# Cost can go upto "
   ]
  },
  {
   "cell_type": "markdown",
   "metadata": {},
   "source": [
    "Now, we do the same process but with feature scaling. We subtract the mean and divide by the standard deviation of second and third feature as the first feature is constant. "
   ]
  },
  {
   "cell_type": "code",
   "execution_count": 8,
   "metadata": {
    "collapsed": true
   },
   "outputs": [],
   "source": [
    "# With feature scaling\n",
    "X_new = X[:]\n",
    "X_new[:,1:3] = X[:,1:3] - np.mean(X[:,1:3], axis = 0, keepdims = True)\n",
    "X_new[:,1:3] = X[:,1:3]/np.std(X[:,1:3], axis= 0, keepdims = True)"
   ]
  },
  {
   "cell_type": "markdown",
   "metadata": {},
   "source": [
    "Again, we pick a value of $\\alpha_2$ such that it neither overshoot nor goes too slow. We see that it converges in just $5$ iterations.\n"
   ]
  },
  {
   "cell_type": "code",
   "execution_count": 9,
   "metadata": {},
   "outputs": [
    {
     "data": {
      "image/png": "[encoded data removed]",
      "text/plain": [
       "<matplotlib.figure.Figure at 0x29a83124240>"
      ]
     },
     "metadata": {},
     "output_type": "display_data"
    },
    {
     "name": "stdout",
     "output_type": "stream",
     "text": [
      "final cost:  -3.27297829771\n",
      "[[ 202.31654627]\n",
      " [  58.3148318 ]\n",
      " [   0.47222629]]\n"
     ]
    }
   ],
   "source": [
    "alpha_2 = 0.5\n",
    "iters_2 = 100000\n",
    "\n",
    "costs_new = []\n",
    "\n",
    "W = initialize()\n",
    "for i in range(iters_2):\n",
    "    costs_new.append(np.log(forward(W,X_new,Y)))\n",
    "    W = update(W,X_new,Y,alpha_2)\n",
    "    \n",
    "plt.plot(costs_new)\n",
    "plt.xlabel('Cost')\n",
    "plt.ylabel('Iteration')\n",
    "plt.show()\n",
    "print(\"final cost: \",  costs_new[-1])\n",
    "print(W)"
   ]
  },
  {
   "cell_type": "markdown",
   "metadata": {},
   "source": [
    "Now, we plot costs vs iterations for both the schemes that is without feature scaling as well as with feature scaling. One can easily see that without scaling the features the cost keeps on decreasing even after $10000$ iterations while with feature scaling it converges in just $5$ iterations."
   ]
  },
  {
   "cell_type": "code",
   "execution_count": 10,
   "metadata": {},
   "outputs": [
    {
     "data": {
      "image/png": "[encoded data removed]",
      "text/plain": [
       "<matplotlib.figure.Figure at 0x29a855e56a0>"
      ]
     },
     "metadata": {},
     "output_type": "display_data"
    }
   ],
   "source": [
    "plt.plot(costs_new, label = 'after scaling')\n",
    "plt.plot(costs, label = 'wihtout scaling')\n",
    "plt.legend()\n",
    "plt.xlabel('iteration')\n",
    "plt.ylabel('cost')\n",
    "plt.show()\n"
   ]
  },
  {
   "cell_type": "code",
   "execution_count": null,
   "metadata": {
    "collapsed": true
   },
   "outputs": [],
   "source": []
  }
 ],
 "metadata": {
  "kernelspec": {
   "display_name": "Python 3",
   "language": "python",
   "name": "python3"
  },
  "language_info": {
   "codemirror_mode": {
    "name": "ipython",
    "version": 3
   },
   "file_extension": ".py",
   "mimetype": "text/x-python",
   "name": "python",
   "nbconvert_exporter": "python",
   "pygments_lexer": "ipython3",
   "version": "3.6.1"
  }
 },
 "nbformat": 4,
 "nbformat_minor": 2
}
